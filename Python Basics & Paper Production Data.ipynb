{
 "cells": [
  {
   "cell_type": "code",
   "execution_count": 1,
   "id": "dd5f6dbf",
   "metadata": {},
   "outputs": [],
   "source": [
    "import pandas as pd"
   ]
  },
  {
   "cell_type": "code",
   "execution_count": 2,
   "id": "db8b6f71",
   "metadata": {},
   "outputs": [],
   "source": [
    "# Constants\n",
    "METRIC_TON_TO_POUNDS = 2204.62  # 1 metric ton = 2204.62 pounds\n",
    "YIELD_PERCENTAGE = 0.90         # Assume 90% efficiency (raw material to paper)\n",
    "\n",
    "def load_data(file_path):\n",
    "    \"\"\"\n",
    "    Loads the production CSV file.\n",
    "    Expects a column 'Production (Metric Tons)'.\n",
    "    \"\"\"\n",
    "    df = pd.read_csv(file_path)\n",
    "    return df"
   ]
  },
  {
   "cell_type": "code",
   "execution_count": 3,
   "id": "ca749db7",
   "metadata": {},
   "outputs": [],
   "source": [
    "def calculate_daily_average(df):\n",
    "    \"\"\"\n",
    "    Returns the average daily production.\n",
    "    \"\"\"\n",
    "    return df['Production (Metric Tons)'].mean()"
   ]
  },
  {
   "cell_type": "code",
   "execution_count": 4,
   "id": "67a5035c",
   "metadata": {},
   "outputs": [],
   "source": [
    "def convert_to_pounds(metric_tons):\n",
    "    \"\"\"\n",
    "    Converts metric tons to pounds.\n",
    "    \"\"\"\n",
    "    return metric_tons * METRIC_TON_TO_POUNDS"
   ]
  },
  {
   "cell_type": "code",
   "execution_count": 5,
   "id": "6939e04e",
   "metadata": {},
   "outputs": [],
   "source": [
    "def estimate_raw_material_needed(production_metric_tons, yield_percent):\n",
    "    \"\"\"\n",
    "    Calculates raw material input required based on yield efficiency.\n",
    "    \"\"\"\n",
    "    return production_metric_tons / yield_percent"
   ]
  },
  {
   "cell_type": "code",
   "execution_count": 6,
   "id": "1499f5aa",
   "metadata": {},
   "outputs": [],
   "source": [
    "def main():\n",
    "    # Load the dataset\n",
    "    file_path = 'daily_production.csv'  # Replace with your actual file path\n",
    "    df = load_data(file_path)\n",
    "    \n",
    "    print(\"=== Paper Mill Production Metrics ===\")"
   ]
  },
  {
   "cell_type": "code",
   "execution_count": 7,
   "id": "3773180a",
   "metadata": {},
   "outputs": [
    {
     "name": "stdout",
     "output_type": "stream",
     "text": [
      "Average Daily Production: <function calculate_daily_average at 0x0000023D15299760> metric tons\n"
     ]
    }
   ],
   "source": [
    "# 1. Daily average production\n",
    "\n",
    "avg_production = calculate_daily_average\n",
    "\n",
    "\n",
    "print(f\"Average Daily Production: {avg_production:} metric tons\")"
   ]
  },
  {
   "cell_type": "code",
   "execution_count": 8,
   "id": "8a007fce",
   "metadata": {},
   "outputs": [
    {
     "name": "stdout",
     "output_type": "stream",
     "text": [
      "Average Daily Production: 275577.50 pounds\n"
     ]
    }
   ],
   "source": [
    " # 2. Convert to pounds\n",
    " \n",
    "   \n",
    "\n",
    "   \n",
    "\n",
    "\n",
    "avg_production_metric_tons = 125.0\n",
    "\n",
    "\n",
    "avg_production_pounds = convert_to_pounds(avg_production_metric_tons)\n",
    "\n",
    "print(f\"Average Daily Production: {avg_production_pounds:.2f} pounds\")"
   ]
  },
  {
   "cell_type": "code",
   "execution_count": 9,
   "id": "af041dcb",
   "metadata": {},
   "outputs": [
    {
     "name": "stdout",
     "output_type": "stream",
     "text": [
      "Average Daily Production: 100.00 metric tons\n",
      "Average Daily Production: 220,462 pounds\n",
      "Estimated Daily Raw Material Required: 1.18 metric tons (assuming 85 % yield)\n"
     ]
    }
   ],
   "source": [
    "# 3. Estimate raw material requirement\n",
    "\n",
    "\n",
    "\n",
    "\n",
    "avg_production = 100.0\n",
    "\n",
    "YIELD_PERCENTAGE = 85  \n",
    "\n",
    "\n",
    "\n",
    "avg_production_lb = convert_to_pounds(avg_production)\n",
    "\n",
    "raw_material_required = estimate_raw_material_needed(avg_production, yield_percent=85)\n",
    "\n",
    "print(f\"Average Daily Production: {avg_production:.2f} metric tons\")\n",
    "print(f\"Average Daily Production: {avg_production_lb:,.0f} pounds\")\n",
    "print(f\"Estimated Daily Raw Material Required: {raw_material_required:.2f} metric tons \"\n",
    "      f\"(assuming 85 % yield)\")\n",
    "\n",
    "\n",
    "\n",
    "\n",
    "\n",
    "\n",
    "\n",
    "\n",
    "\n"
   ]
  },
  {
   "cell_type": "code",
   "execution_count": 10,
   "id": "6498ef76",
   "metadata": {},
   "outputs": [
    {
     "name": "stdout",
     "output_type": "stream",
     "text": [
      "Total Weekly Production: ['Production (Metric Tons)'] metric tons\n"
     ]
    }
   ],
   "source": [
    "\n",
    "\n",
    "total_weekly = ['Production (Metric Tons)']\n",
    " \n",
    "\n",
    "print(f\"Total Weekly Production: {total_weekly:} metric tons\")\n"
   ]
  }
 ],
 "metadata": {
  "kernelspec": {
   "display_name": "Python 3",
   "language": "python",
   "name": "python3"
  },
  "language_info": {
   "codemirror_mode": {
    "name": "ipython",
    "version": 3
   },
   "file_extension": ".py",
   "mimetype": "text/x-python",
   "name": "python",
   "nbconvert_exporter": "python",
   "pygments_lexer": "ipython3",
   "version": "3.12.4"
  }
 },
 "nbformat": 4,
 "nbformat_minor": 5
}
